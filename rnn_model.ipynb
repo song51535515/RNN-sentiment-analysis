{
 "cells": [
  {
   "cell_type": "markdown",
   "id": "8bd817f7",
   "metadata": {},
   "source": [
    "RNN 实现文本分类的步骤为以下几步:\n",
    "\n",
    "1、**读取训练数据集(119979条随机排列数据)、测试数据集(39995条随机排列数据)**，样本的形式为-->(评论原文、标签(1,2,3)、预处理后的评论(空格分隔))。\n",
    "\n",
    "2、根据预处理后的评论生成 **tokens 列表**，即 [['大片'，' 震撼']，['中国'， '加油']，[''，'']，，，] 这样的二维数组，列表每一个元素即一个评论分词列表。\n",
    "\n",
    "3、**Word2Vec 词向量化**，将tokens投入Word2Vec模型，生成每一个词语对应的向量(一般100~300维)，并生成对应词典 id_token_voc，即['大片','震撼',,]等。\n",
    "\n",
    "4、根据字典 id_token_voc 将评论 tokens 转化为其对应的索引下标 **tokens_index**，即[[0,545,264][1,4,854],,,]这样的二维数组，并**生成训练集与测试集列表**。\n",
    "\n",
    "5、**构建 RNN 模型**，主要由 3 个部分构成，词嵌入矩阵Embedding、循环隐藏层RNN、全连接层Linear。\n",
    "\n",
    "6、定义**梯度裁剪函数clip**，限制梯度的过度增长，防止梯度爆炸。\n",
    "\n",
    "7、**初始化模型参数，选择损失函数、模型优化器、学习率、迭代次数等**。\n",
    "\n",
    "8、定义模型训练函数与评估函数，**预测评估**。"
   ]
  },
  {
   "cell_type": "markdown",
   "id": "6889f666",
   "metadata": {},
   "source": [
    "具体的实现细节如下。"
   ]
  },
  {
   "cell_type": "markdown",
   "id": "2231458b",
   "metadata": {},
   "source": [
    "### Step1：读取数据集"
   ]
  },
  {
   "cell_type": "markdown",
   "id": "8a7bd1aa",
   "metadata": {},
   "source": [
    "读取训练集与测试集的数据，分别以3、2、1标签标识。"
   ]
  },
  {
   "cell_type": "code",
   "execution_count": 1,
   "id": "2945e775",
   "metadata": {},
   "outputs": [],
   "source": [
    "import csv\n",
    "\n",
    "#传入训练集与测试集的文件名路径\n",
    "def read_comments(train_file, test_file):\n",
    "    train_array, test_array = [], []\n",
    "    \n",
    "    with open(train_file, 'r', encoding='UTF-8') as fp_train:\n",
    "        reader_train = csv.reader(fp_train)\n",
    "        train_array = [line for line in reader_train]                      #读取训练集所有数据\n",
    "    \n",
    "    with open(test_file, 'r', encoding='UTF-8') as fp_test:\n",
    "        reader_test = csv.reader(fp_test)\n",
    "        test_array = [line for line in reader_test]                        #读取测试集所有数据\n",
    "\n",
    "    return train_array, test_array"
   ]
  },
  {
   "cell_type": "code",
   "execution_count": 2,
   "id": "e89e854d",
   "metadata": {},
   "outputs": [],
   "source": [
    "train_array, test_array = read_comments('./alldata/train-all.csv', './alldata/test-all.csv')"
   ]
  },
  {
   "cell_type": "markdown",
   "id": "3417fca7",
   "metadata": {},
   "source": [
    "查看读取到的信息，训练集测试集长度，训练集与测试集的前3个数据。"
   ]
  },
  {
   "cell_type": "code",
   "execution_count": 3,
   "id": "c8ee40af",
   "metadata": {
    "scrolled": false
   },
   "outputs": [
    {
     "data": {
      "text/plain": [
       "(119979,\n",
       " 39995,\n",
       " [['很震撼！全程无尿点，就是男主演技有点生硬，有待提高。', '3', '  震撼 全程无 尿点 主演 生硬 有待 提高'],\n",
       "  ['一直习惯好评', '3', '  习惯 好评'],\n",
       "  ['大片 太震撼 涉及人性 感情 触动内心 支持吴京 支持中国', '3', '  大片 震撼 涉及 人性 感情 触动 内心 支持 吴京 中国']],\n",
       " [['吹爆这部电影，二刷了。第一次3d，这次imax。果然还是imax效果好，能看imax就别看3d了。特效真的很好，虽然台词有些欠缺，但还是很推荐！',\n",
       "   '3',\n",
       "   '  这部 电影 二刷 第一次 3d imax 效果 就别 特效 真的 台词 欠缺 推荐'],\n",
       "  ['还可以吧??', '2', ' '],\n",
       "  ['?中国电影加油！期待超越！', '3', '  中国 电影 加油 期待 超越']])"
      ]
     },
     "execution_count": 3,
     "metadata": {},
     "output_type": "execute_result"
    }
   ],
   "source": [
    "len(train_array), len(test_array), train_array[1:4], test_array[1:4]"
   ]
  },
  {
   "cell_type": "markdown",
   "id": "ba267e45",
   "metadata": {},
   "source": [
    "可以看到，每条样本的形状均是-->(评论原文、标签(1,2,3)、预处理后的评论(空格分隔))。"
   ]
  },
  {
   "cell_type": "markdown",
   "id": "02f29bb2",
   "metadata": {},
   "source": [
    "### Step2：生成 tokens 数组"
   ]
  },
  {
   "cell_type": "markdown",
   "id": "ab4f310a",
   "metadata": {},
   "source": [
    "生成 tokens 数组要将训练集与测试集的所有评论信息进行**汇总生成**，否则 tokens 数据不健壮，预测时发生异常。"
   ]
  },
  {
   "cell_type": "code",
   "execution_count": 4,
   "id": "d6eb78bf",
   "metadata": {},
   "outputs": [],
   "source": [
    "def create_tokens(train_array, test_array):\n",
    "    \n",
    "    tokens = []\n",
    "    \n",
    "    #追加训练集的tokens\n",
    "    for comment_data in train_array:\n",
    "        tokens.append(comment_data[2].split(' '))\n",
    "        \n",
    "    #追加测试集的tokens\n",
    "    for comment_data in test_array:\n",
    "        tokens.append(comment_data[2].split(' '))\n",
    "    \n",
    "    return tokens                      #返回数据集的所有tokens"
   ]
  },
  {
   "cell_type": "markdown",
   "id": "da6de303",
   "metadata": {},
   "source": [
    "获取数据集的所有tokens"
   ]
  },
  {
   "cell_type": "code",
   "execution_count": 5,
   "id": "10f45709",
   "metadata": {},
   "outputs": [],
   "source": [
    "tokens = create_tokens(train_array, test_array)"
   ]
  },
  {
   "cell_type": "markdown",
   "id": "70c3021b",
   "metadata": {},
   "source": [
    "打印前 3 条评论的 tokens"
   ]
  },
  {
   "cell_type": "code",
   "execution_count": 6,
   "id": "bd909275",
   "metadata": {},
   "outputs": [
    {
     "data": {
      "text/plain": [
       "[['', '', '震撼', '全程无', '尿点', '主演', '生硬', '有待', '提高'],\n",
       " ['', '', '习惯', '好评'],\n",
       " ['', '', '大片', '震撼', '涉及', '人性', '感情', '触动', '内心', '支持', '吴京', '中国']]"
      ]
     },
     "execution_count": 6,
     "metadata": {},
     "output_type": "execute_result"
    }
   ],
   "source": [
    "tokens[1:4]"
   ]
  },
  {
   "cell_type": "markdown",
   "id": "3b34dfd8",
   "metadata": {},
   "source": [
    "### Step3：使用Word2Vec生成词向量"
   ]
  },
  {
   "cell_type": "markdown",
   "id": "c7b612ad",
   "metadata": {},
   "source": [
    "我们知道，在神经网络中，网络的输入和输出一般均为数值型数据，且多数为**向量矩阵操作**，所以我们使用 Word2Vec 对评论中的每个词语进行编码。"
   ]
  },
  {
   "cell_type": "code",
   "execution_count": 7,
   "id": "926b5c20",
   "metadata": {},
   "outputs": [],
   "source": [
    "from gensim.models import Word2Vec\n",
    "\n",
    "def word_vec(tokens):\n",
    "    \n",
    "    #调用Word2Vec模型，将所有词语信息转化为向量\n",
    "    model = Word2Vec(tokens, sg=0, vector_size=300, window=5, min_count=1, epochs=7, negative=10)\n",
    "    model.save('word2vec_model')\n",
    "    \n",
    "    return model"
   ]
  },
  {
   "cell_type": "markdown",
   "id": "645b947d",
   "metadata": {},
   "source": [
    "进行单词的编码操作。"
   ]
  },
  {
   "cell_type": "code",
   "execution_count": 8,
   "id": "d95b5256",
   "metadata": {},
   "outputs": [],
   "source": [
    "word_vecs = word_vec(tokens=tokens)"
   ]
  },
  {
   "cell_type": "markdown",
   "id": "7ece4f8d",
   "metadata": {},
   "source": [
    "输出词向量后的信息。"
   ]
  },
  {
   "cell_type": "code",
   "execution_count": 9,
   "id": "4328f0c6",
   "metadata": {},
   "outputs": [
    {
     "name": "stdout",
     "output_type": "stream",
     "text": [
      "(45208, 300)\n",
      "['', '好看', '中国', '电影', '不错']\n",
      "[[ 0.15714452  0.10297985 -0.3767757  ...  0.00725677 -0.06473741\n",
      "  -0.480472  ]\n",
      " [-0.20987633  0.06765148  0.05508094 ... -0.5220865   0.8101194\n",
      "  -0.8843229 ]\n",
      " [ 1.0823553  -0.48328546  0.53041005 ...  1.2825646   0.85334855\n",
      "  -0.40326372]\n",
      " [-0.82389003 -0.4161417  -0.3203291  ... -0.8774252  -0.5733916\n",
      "  -0.15823705]\n",
      " [-0.78325015 -0.00408868  0.68230563 ...  0.22523704  0.2063678\n",
      "   0.1848022 ]]\n"
     ]
    }
   ],
   "source": [
    "print(word_vecs.wv.vectors.shape)                                    #输出所有向量总的形状\n",
    "print(word_vecs.wv.index_to_key[:5])                                 #所有的词表信息['word1', 'word2', ,,,]，输出前5个\n",
    "print(word_vecs.wv.vectors[:5])                                      #输出前5个词对应的向量信息，并输出总的形状"
   ]
  },
  {
   "cell_type": "markdown",
   "id": "40afb0c6",
   "metadata": {},
   "source": [
    "可见，存在12290个词语，每个词语均使用300维(长度)的向量来表示。"
   ]
  },
  {
   "cell_type": "markdown",
   "id": "5165b6cc",
   "metadata": {},
   "source": [
    "此时，也应生成该向量矩阵对应的词典，用于将所有评论句子内的**词语信息**转化为**向量索引**。"
   ]
  },
  {
   "cell_type": "code",
   "execution_count": 10,
   "id": "bc11a89c",
   "metadata": {},
   "outputs": [],
   "source": [
    "id_token_voc = word_vecs.wv.index_to_key"
   ]
  },
  {
   "cell_type": "markdown",
   "id": "7527e989",
   "metadata": {},
   "source": [
    "输出字典内的前 10 个词语："
   ]
  },
  {
   "cell_type": "code",
   "execution_count": 11,
   "id": "f7ff9ba9",
   "metadata": {},
   "outputs": [
    {
     "data": {
      "text/plain": [
       "['', '好看', '中国', '电影', '不错', '特效', '科幻片', '科幻', '国产', '剧情']"
      ]
     },
     "execution_count": 11,
     "metadata": {},
     "output_type": "execute_result"
    }
   ],
   "source": [
    "id_token_voc[:10]"
   ]
  },
  {
   "cell_type": "markdown",
   "id": "7c8819fc",
   "metadata": {},
   "source": [
    "### Step4：将 tokens 内的词语转化为向量索引"
   ]
  },
  {
   "cell_type": "code",
   "execution_count": 12,
   "id": "c61bbb19",
   "metadata": {},
   "outputs": [],
   "source": [
    "def word_to_idx(tokens, id_token_voc):\n",
    "    tokens_index = []\n",
    "    \n",
    "    for sentence in tokens:                                #遍历所有评论\n",
    "        index = []\n",
    "        for word in sentence:\n",
    "            index.append(id_token_voc.index(word))         #将每个单词转化为字典对应的索引\n",
    "        tokens_index.append(index)\n",
    "    \n",
    "    return tokens_index                                   #返回所有评论的索引列表"
   ]
  },
  {
   "cell_type": "markdown",
   "id": "ff886d1b",
   "metadata": {},
   "source": [
    "将所有评论词语转化为向量索引:"
   ]
  },
  {
   "cell_type": "code",
   "execution_count": 13,
   "id": "d8da51f8",
   "metadata": {},
   "outputs": [],
   "source": [
    "tokens_index = word_to_idx(tokens, id_token_voc)"
   ]
  },
  {
   "cell_type": "markdown",
   "id": "d52c600b",
   "metadata": {},
   "source": [
    "输出前两个评论的 tokens 索引列表:"
   ]
  },
  {
   "cell_type": "code",
   "execution_count": 14,
   "id": "479c0109",
   "metadata": {},
   "outputs": [
    {
     "data": {
      "text/plain": [
       "[[19547], [0, 0, 10, 152, 137, 256, 291, 409, 372]]"
      ]
     },
     "execution_count": 14,
     "metadata": {},
     "output_type": "execute_result"
    }
   ],
   "source": [
    "tokens_index[:2]"
   ]
  },
  {
   "cell_type": "markdown",
   "id": "875b862a",
   "metadata": {},
   "source": [
    "并输出这两条评论对应的文本信息:"
   ]
  },
  {
   "cell_type": "code",
   "execution_count": 15,
   "id": "0ef67198",
   "metadata": {},
   "outputs": [
    {
     "data": {
      "text/plain": [
       "(['comment_cut'], ['', '', '震撼', '全程无', '尿点', '主演', '生硬', '有待', '提高'])"
      ]
     },
     "execution_count": 15,
     "metadata": {},
     "output_type": "execute_result"
    }
   ],
   "source": [
    "[id_token_voc[id] for id in tokens_index[0]], [id_token_voc[id] for id in tokens_index[1]]"
   ]
  },
  {
   "cell_type": "markdown",
   "id": "812c2415",
   "metadata": {},
   "source": [
    "可见，句子是正确有逻辑的，所以 tokens_index 评论词语索引列表生成正确。"
   ]
  },
  {
   "cell_type": "markdown",
   "id": "6e8ad912",
   "metadata": {},
   "source": [
    "### Step5：生成训练集与测试集"
   ]
  },
  {
   "cell_type": "markdown",
   "id": "642a4c8e",
   "metadata": {},
   "source": [
    "同样地，我们将生成训练集和测试集的数据迭代器，每一个样本均包含对应的评论索引列表和其对应的标签。如下"
   ]
  },
  {
   "cell_type": "code",
   "execution_count": 16,
   "id": "76095d2d",
   "metadata": {},
   "outputs": [
    {
     "data": {
      "text/plain": [
       "tensor([5., 3., 5.])"
      ]
     },
     "execution_count": 16,
     "metadata": {},
     "output_type": "execute_result"
    }
   ],
   "source": [
    "import torch\n",
    "torch.FloatTensor([5,3,5])"
   ]
  },
  {
   "cell_type": "code",
   "execution_count": 17,
   "id": "acdf43e2",
   "metadata": {},
   "outputs": [],
   "source": [
    "#生成训练集与测试集的数据迭代器\n",
    "def get_iter(train_array, test_array, tokens_index):\n",
    "    train_iter = [[torch.tensor(tokens_index[i]), torch.tensor(int(train_array[i][1]))] for i in range(len(train_array))]\n",
    "    test_iter = [[torch.tensor(tokens_index[i+len(train_array)]), torch.tensor(int(test_array[i][1]))] for i in range(len(test_array))]\n",
    "    return train_iter, test_iter\n",
    "\n",
    "\n",
    "train_iter, test_iter = get_iter(train_array, test_array, tokens_index)"
   ]
  },
  {
   "cell_type": "markdown",
   "id": "b63279d6",
   "metadata": {},
   "source": [
    "测试一下训练集与测试集的长度，以及训练集的前5个样本:"
   ]
  },
  {
   "cell_type": "code",
   "execution_count": 18,
   "id": "231fdd3f",
   "metadata": {},
   "outputs": [
    {
     "data": {
      "text/plain": [
       "(119979,\n",
       " 39995,\n",
       " [[tensor([19547]), tensor(1)],\n",
       "  [tensor([  0,   0,  10, 152, 137, 256, 291, 409, 372]), tensor(3)],\n",
       "  [tensor([   0,    0, 1245,  105]), tensor(3)],\n",
       "  [tensor([   0,    0,   14,   10, 1716,  177,   87,  561,  524,   26,   18,    2]),\n",
       "   tensor(3)],\n",
       "  [tensor([  0,   0,   2,  57, 713,  24,   7,  14]), tensor(3)]])"
      ]
     },
     "execution_count": 18,
     "metadata": {},
     "output_type": "execute_result"
    }
   ],
   "source": [
    "len(train_iter), len(test_iter), train_iter[:5]"
   ]
  },
  {
   "cell_type": "markdown",
   "id": "d6cb4016",
   "metadata": {},
   "source": [
    "符合预期，创建成功。"
   ]
  },
  {
   "cell_type": "markdown",
   "id": "a01a2af3",
   "metadata": {},
   "source": [
    "### Step6：构建RNN循环神经模型"
   ]
  },
  {
   "cell_type": "markdown",
   "id": "1bb95bf8",
   "metadata": {},
   "source": [
    "要想更加本质的理解这一部分的内容，我想还是应该把 RNN 的图示和计算公式贴在这里，更能方便大家理解。"
   ]
  },
  {
   "cell_type": "markdown",
   "id": "8f91d2f9",
   "metadata": {},
   "source": [
    "RNN的**核心公式**如下。\n",
    "\n",
    "隐状态 $H$:\n",
    "\n",
    "$$\\mathbf{H}_t = \\phi(\\mathbf{X}_t \\mathbf{W}_{xh} + \\mathbf{H}_{t-1} \\mathbf{W}_{hh}  + \\mathbf{b}_h).$$\n",
    "\n",
    "输出结果 $O$:\n",
    "\n",
    "$$O_{t} = H_{t}W_{hq} + b_q$$\n",
    "\n",
    "其中，添加了 ${H}_{t-1}$ 代表上个时序**隐状态**，${W}_{hh}$ 代表了其对应的**权重矩阵**, $O_{t}$代表**时间段t的输出**。\n",
    "\n",
    "图示如下:"
   ]
  },
  {
   "attachments": {
    "QQ%E6%88%AA%E5%9B%BE20221021082547.png": {
     "image/png": "[encoded data removed]"
    }
   },
   "cell_type": "markdown",
   "id": "99f6cf6a",
   "metadata": {},
   "source": [
    "![QQ%E6%88%AA%E5%9B%BE20221021082547.png](attachment:QQ%E6%88%AA%E5%9B%BE20221021082547.png)"
   ]
  },
  {
   "cell_type": "markdown",
   "id": "76df5822",
   "metadata": {},
   "source": [
    "由此可见，要想使用 RNN 网络预测得到结果，我们大体上需要两个部分组成：**RNN层(生成最终隐状态 $H$ )、Linear全连接层(生成结果 $O$)**。\n",
    "\n",
    "但是我们又需要将所有评论语句变为向量投入到网络中，所以还需要一部分**Embedding词嵌入**模型，用于将所有的评论信息转化为矩阵信息，所以共需要三部分构成。下面来定义RNN模型："
   ]
  },
  {
   "cell_type": "code",
   "execution_count": 19,
   "id": "58b7d07a",
   "metadata": {},
   "outputs": [],
   "source": [
    "import torch\n",
    "from torch import nn\n",
    "import torch.nn.functional as F\n",
    "\n",
    "class RNNModel(nn.Module):\n",
    "    \n",
    "    #初始化模型\n",
    "    def __init__(self, id_token_voc, embedding_dim, hidden_dim, output_dim, vectors):\n",
    "        super(RNNModel, self).__init__()\n",
    "        \n",
    "        #生成词嵌入的矩阵\n",
    "        self.embedding = nn.Embedding(len(id_token_voc), embedding_dim)\n",
    "        self.embedding = self.embedding.from_pretrained(torch.tensor(vectors))\n",
    "        \n",
    "        #RNN循环隐藏层，计算出最后的H隐状态\n",
    "        self.rnn = nn.RNN(embedding_dim, hidden_dim)\n",
    "        \n",
    "        #Linear全连接层，用于输出最后的分类结果概率\n",
    "        self.linear = nn.Linear(hidden_dim, output_dim)\n",
    "\n",
    "    #前向传播函数，计算分类结果\n",
    "    def forward(self, X):\n",
    "        \n",
    "        #将X评论语句的词语索引均转化为对应的向量\n",
    "        #此时的embedded的形状为 (评论长度(词语个数)、批量数目、词向量维度)\n",
    "        #因为我们之前并未统一评论的长度，不能够批量训练样本数据、所以此次训练批量数目均为1\n",
    "        embedded = self.embedding(X.long().T)\n",
    "        \n",
    "        #RNN层计算出隐状态列表(h_1, h_2, ,,, h_n)\n",
    "        #其中 out 代表所有时间步 t_i 的隐状态(h_1, h_2, ,,, h_n)\n",
    "        #其中 h 代表最后一个时间步的隐状态 h_n\n",
    "        #out.shape(评论长度(词语个数)、批量数目、隐单元维度)、h.shape(1, 批量数目，隐单元维度)，注意本文章的批量数目均为1\n",
    "        out, h = self.rnn(embedded)\n",
    "        \n",
    "        #断言最后一个隐状态h_n是否等于h_n\n",
    "        #h.squeeze()方法为压缩维度，将第0个维度取出，即h.squeeze(0).shpae = (批量数目1，隐单元维度)\n",
    "        assert torch.equal(out[-1, :, ], h.squeeze(0))\n",
    "\n",
    "        #最后通过全连接层计算结果Out，并以softmax()回归规范数据\n",
    "        return F.softmax(self.linear(h.squeeze()),dim=0)"
   ]
  },
  {
   "cell_type": "markdown",
   "id": "f83e7c0b",
   "metadata": {},
   "source": [
    "### Step7：定义梯度裁剪方法"
   ]
  },
  {
   "cell_type": "markdown",
   "id": "d8800d87",
   "metadata": {},
   "source": [
    "梯度裁剪，顾名思义，就是对梯度进行限制，防止出现**梯度爆炸**的情况，以免影响模型训练。\n",
    "\n",
    "具体的裁剪方法如下公式所示:\n",
    "\n",
    "$$g \\leftarrow min(1, \\frac{\\theta}{||g||})g$$\n",
    "\n",
    "其中， $||g||$代表**梯度的二范数**, $\\theta$ 代表**设定范围**。"
   ]
  },
  {
   "cell_type": "code",
   "execution_count": 20,
   "id": "eedb1199",
   "metadata": {},
   "outputs": [],
   "source": [
    "def grad_clipping(net, theta):  # @save\n",
    "    \"\"\"裁剪梯度\"\"\"\n",
    "    if isinstance(net, nn.Module):\n",
    "        params = [p for p in net.parameters() if p.requires_grad]\n",
    "    else:\n",
    "        params = net.params\n",
    "\n",
    "    norm = torch.sqrt(sum(torch.sum((p.grad ** 2)) for p in params))      #计算梯度的二范数\n",
    "    \n",
    "    if norm > theta:                                                      #如果梯度的二范数大于设定值时，进行梯度裁剪操作\n",
    "        for param in params:\n",
    "            param.grad[:] *= theta / norm"
   ]
  },
  {
   "cell_type": "markdown",
   "id": "fda96dbf",
   "metadata": {},
   "source": [
    "### Step8：初始化模型参数、损失函数、优化算法"
   ]
  },
  {
   "cell_type": "markdown",
   "id": "77051f47",
   "metadata": {},
   "source": [
    "现在，我们来实例化RNN模型，并初始化模型参数。"
   ]
  },
  {
   "cell_type": "code",
   "execution_count": 21,
   "id": "68607d70",
   "metadata": {},
   "outputs": [
    {
     "name": "stderr",
     "output_type": "stream",
     "text": [
      "C:\\Users\\sxs\\Desktop\\新建文件夹partdata\\torchvision\\io\\image.py:13: UserWarning: Failed to load image Python extension: 'Could not find module 'C:\\Users\\sxs\\Desktop\\新建文件夹partdata\\torchvision\\image.pyd' (or one of its dependencies). Try using the full path with constructor syntax.'If you don't plan on using image functionality from `torchvision.io`, you can ignore this warning. Otherwise, there might be something wrong with your environment. Did you have `libjpeg` or `libpng` installed before building `torchvision` from source?\n",
      "  warn(\n"
     ]
    }
   ],
   "source": [
    "\n",
    "from d2l import torch as d2l\n",
    "\n",
    "#初始化模型参数函数，均为正态分布\n",
    "def init_weights(m):\n",
    "    if type(m) == nn.Linear:\n",
    "        nn.init.xavier_uniform_(m.weight)\n",
    "    if type(m) == nn.RNN:\n",
    "        for param in m._flat_weights_names:\n",
    "            if \"weight\" in param:\n",
    "                nn.init.xavier_uniform_(m._parameters[param])\n",
    "\n",
    "#实例化模型并初始化模型参数，并尝试使用gpu进行训练\n",
    "net = RNNModel(id_token_voc=id_token_voc, embedding_dim=300, hidden_dim=256, output_dim=3, vectors=word_vecs.wv.vectors)\n",
    "net.apply(init_weights)\n",
    "\n",
    "#device = d2l.try_gpu()\n",
    "\n",
    "net = net.to(d2l.try_gpu())\n",
    "#net = net.to(torch.device('cpu'))\n",
    "\n",
    "#设置词嵌入矩阵不计入梯度的计算\n",
    "net.embedding.weight.requires_grad = False\n",
    "\n",
    "#定义交叉熵损失函数\n",
    "loss = nn.CrossEntropyLoss(reduction='none')\n",
    "\n",
    "#定义梯度下降方法优化器\n",
    "updater = torch.optim.SGD(net.parameters(), 0.0001)"
   ]
  },
  {
   "cell_type": "markdown",
   "id": "89253149",
   "metadata": {},
   "source": [
    "### Step9：定义训练模型函数，训练模型"
   ]
  },
  {
   "cell_type": "markdown",
   "id": "856f7346",
   "metadata": {},
   "source": [
    "现在，我们需要定义训练函数，从而对模型进行训练。"
   ]
  },
  {
   "cell_type": "markdown",
   "id": "9f096f6a",
   "metadata": {},
   "source": [
    "首先定义一个评估函数，每次迭代一次后均要评测模型对训练集与测试集的精确度。"
   ]
  },
  {
   "cell_type": "code",
   "execution_count": 22,
   "id": "0fb56cdb",
   "metadata": {},
   "outputs": [],
   "source": [
    "def evaluate_net(net, train_iter, test_iter, device):\n",
    "    \n",
    "    correct_train = 0\n",
    "    correct_test = 0\n",
    "    error_train = 0\n",
    "    error_test = 0\n",
    "    \n",
    "    #统计训练集的预测正确与预测错误的数目\n",
    "    for X, y in train_iter:\n",
    "        \n",
    "        X = X.unsqueeze(0)\n",
    "        \n",
    "        X = X.to(device)\n",
    "        y = y.to(device)\n",
    "        \n",
    "        y_hat = net(X)\n",
    "        \n",
    "        if y_hat.argmax().item() + 1 == y.item():\n",
    "            correct_train += 1\n",
    "        else:\n",
    "            error_train += 1\n",
    "    \n",
    "    #统计测试集的预测正确与预测错误的数目\n",
    "    for X, y in test_iter:\n",
    "        \n",
    "        X = X.unsqueeze(0)\n",
    "        \n",
    "        X = X.to(device)\n",
    "        y = y.to(device)\n",
    "        \n",
    "        y_hat = net(X)\n",
    "        \n",
    "        if y_hat.argmax().item() + 1 == y.item():\n",
    "            correct_test += 1\n",
    "        else:\n",
    "            error_test += 1\n",
    "    \n",
    "    #返回模型在训练集与测试集上的准确度\n",
    "    return correct_train/len(train_iter), correct_test/len(test_iter)\n",
    "    "
   ]
  },
  {
   "cell_type": "markdown",
   "id": "19537dbd",
   "metadata": {},
   "source": [
    "现在来定义训练函数。"
   ]
  },
  {
   "cell_type": "code",
   "execution_count": 23,
   "id": "f44d374d",
   "metadata": {},
   "outputs": [],
   "source": [
    "def train(net, train_iter, test_iter, loss, updater, num_epochs, device):\n",
    "    print('----------开始训练----------')\n",
    "    \n",
    "    import time\n",
    "    \n",
    "    for i in range(num_epochs):        #共迭代num_epochs次\n",
    "        \n",
    "        num = 0\n",
    "        loss_sum = 0     \n",
    "        \n",
    "        for X, y in train_iter:\n",
    "            \n",
    "            X = X.unsqueeze(0)         #增加一个维度，表示批量大小为1， 此时X的形状为(1, 词语个数(序列索引))\n",
    "            \n",
    "            X = X.to(device)\n",
    "            y = y.to(device)\n",
    "            \n",
    "            y_hat = net(X)            #通过RNN循环神经网络预测y_hat, 会返回(1, 3)的概率列表，表示三个类别的概率分布\n",
    "            \n",
    "            updater.zero_grad()       #清空梯度\n",
    "            \n",
    "            #之所以(y-1).long() 是因为y代表的是标签123，并不是概率列表下标012，所以要 (y-1)将标签换做成下标计算损失\n",
    "            l = loss(y_hat, (y-1).long())\n",
    "            \n",
    "            l.backward()             #后向传播计算梯度，更新模型参数\n",
    "            updater.step()\n",
    "            \n",
    "            grad_clipping(net, 1)    #进行梯度裁剪\n",
    "            \n",
    "            num += 1                 #训练样本个数累加\n",
    "            loss_sum += l            #训练损失累加\n",
    "        \n",
    "        \n",
    "        train_acc, test_acc = evaluate_net(net, train_iter, test_iter, device)\n",
    "        \n",
    "        #输出迭代次数、损失、训练集准确度、测试集准确度\n",
    "        stamptime = time.strftime(\"%H:%M:%S\", time.localtime())\n",
    "        #print('-epochs:', (i+1),  '\\t-loss:', loss_sum/num, '\\t-train-acc:', train_acc, '\\t-test-acc:', test_acc)\n",
    "        print('-epochs:', (i+1),  '\\t-loss:', loss_sum/num, '\\t-train-acc:', train_acc, '\\t-test-acc:', test_acc, '---',stamptime)\n",
    "                \n",
    "    \n",
    "    #保存模型参数，方便下次使用时直接进行加载\n",
    "    torch.save(net.state_dict(), 'RNN.parameters')        "
   ]
  },
  {
   "cell_type": "markdown",
   "id": "2110ae68",
   "metadata": {},
   "source": [
    "### Step10：训练和评估模型"
   ]
  },
  {
   "cell_type": "code",
   "execution_count": 24,
   "id": "619a532b",
   "metadata": {
    "scrolled": true
   },
   "outputs": [
    {
     "name": "stdout",
     "output_type": "stream",
     "text": [
      "----------开始训练----------\n",
      "-epochs: 1 \t-loss: tensor(0.6509, device='cuda:0', grad_fn=<DivBackward0>) \t-train-acc: 0.906300269213779 \t-test-acc: 0.9024878109763721 --- 16:11:11\n",
      "-epochs: 2 \t-loss: tensor(0.6455, device='cuda:0', grad_fn=<DivBackward0>) \t-train-acc: 0.906300269213779 \t-test-acc: 0.9024878109763721 --- 16:15:07\n"
     ]
    },
    {
     "ename": "KeyboardInterrupt",
     "evalue": "",
     "output_type": "error",
     "traceback": [
      "\u001b[1;31m---------------------------------------------------------------------------\u001b[0m",
      "\u001b[1;31mKeyboardInterrupt\u001b[0m                         Traceback (most recent call last)",
      "Cell \u001b[1;32mIn[24], line 1\u001b[0m\n\u001b[1;32m----> 1\u001b[0m \u001b[43mtrain\u001b[49m\u001b[43m(\u001b[49m\u001b[43mnet\u001b[49m\u001b[43m,\u001b[49m\u001b[43m \u001b[49m\u001b[43mtrain_iter\u001b[49m\u001b[43m,\u001b[49m\u001b[43m \u001b[49m\u001b[43mtest_iter\u001b[49m\u001b[43m,\u001b[49m\u001b[43m \u001b[49m\u001b[43mloss\u001b[49m\u001b[43m,\u001b[49m\u001b[43m \u001b[49m\u001b[43mupdater\u001b[49m\u001b[43m,\u001b[49m\u001b[43m \u001b[49m\u001b[38;5;241;43m5\u001b[39;49m\u001b[43m,\u001b[49m\u001b[43m \u001b[49m\u001b[43md2l\u001b[49m\u001b[38;5;241;43m.\u001b[39;49m\u001b[43mtry_gpu\u001b[49m\u001b[43m(\u001b[49m\u001b[43m)\u001b[49m\u001b[43m)\u001b[49m\n\u001b[0;32m      2\u001b[0m \u001b[38;5;66;03m#train(net, train_iter, test_iter, loss, updater, 50, torch.device('cpu'))\u001b[39;00m\n",
      "Cell \u001b[1;32mIn[23], line 34\u001b[0m, in \u001b[0;36mtrain\u001b[1;34m(net, train_iter, test_iter, loss, updater, num_epochs, device)\u001b[0m\n\u001b[0;32m     30\u001b[0m     num \u001b[38;5;241m+\u001b[39m\u001b[38;5;241m=\u001b[39m \u001b[38;5;241m1\u001b[39m                 \u001b[38;5;66;03m#训练样本个数累加\u001b[39;00m\n\u001b[0;32m     31\u001b[0m     loss_sum \u001b[38;5;241m+\u001b[39m\u001b[38;5;241m=\u001b[39m l            \u001b[38;5;66;03m#训练损失累加\u001b[39;00m\n\u001b[1;32m---> 34\u001b[0m train_acc, test_acc \u001b[38;5;241m=\u001b[39m \u001b[43mevaluate_net\u001b[49m\u001b[43m(\u001b[49m\u001b[43mnet\u001b[49m\u001b[43m,\u001b[49m\u001b[43m \u001b[49m\u001b[43mtrain_iter\u001b[49m\u001b[43m,\u001b[49m\u001b[43m \u001b[49m\u001b[43mtest_iter\u001b[49m\u001b[43m,\u001b[49m\u001b[43m \u001b[49m\u001b[43mdevice\u001b[49m\u001b[43m)\u001b[49m\n\u001b[0;32m     36\u001b[0m \u001b[38;5;66;03m#输出迭代次数、损失、训练集准确度、测试集准确度\u001b[39;00m\n\u001b[0;32m     37\u001b[0m stamptime \u001b[38;5;241m=\u001b[39m time\u001b[38;5;241m.\u001b[39mstrftime(\u001b[38;5;124m\"\u001b[39m\u001b[38;5;124m%\u001b[39m\u001b[38;5;124mH:\u001b[39m\u001b[38;5;124m%\u001b[39m\u001b[38;5;124mM:\u001b[39m\u001b[38;5;124m%\u001b[39m\u001b[38;5;124mS\u001b[39m\u001b[38;5;124m\"\u001b[39m, time\u001b[38;5;241m.\u001b[39mlocaltime())\n",
      "Cell \u001b[1;32mIn[22], line 16\u001b[0m, in \u001b[0;36mevaluate_net\u001b[1;34m(net, train_iter, test_iter, device)\u001b[0m\n\u001b[0;32m     13\u001b[0m X \u001b[38;5;241m=\u001b[39m X\u001b[38;5;241m.\u001b[39mto(device)\n\u001b[0;32m     14\u001b[0m y \u001b[38;5;241m=\u001b[39m y\u001b[38;5;241m.\u001b[39mto(device)\n\u001b[1;32m---> 16\u001b[0m y_hat \u001b[38;5;241m=\u001b[39m \u001b[43mnet\u001b[49m\u001b[43m(\u001b[49m\u001b[43mX\u001b[49m\u001b[43m)\u001b[49m\n\u001b[0;32m     18\u001b[0m \u001b[38;5;28;01mif\u001b[39;00m y_hat\u001b[38;5;241m.\u001b[39margmax()\u001b[38;5;241m.\u001b[39mitem() \u001b[38;5;241m+\u001b[39m \u001b[38;5;241m1\u001b[39m \u001b[38;5;241m==\u001b[39m y\u001b[38;5;241m.\u001b[39mitem():\n\u001b[0;32m     19\u001b[0m     correct_train \u001b[38;5;241m+\u001b[39m\u001b[38;5;241m=\u001b[39m \u001b[38;5;241m1\u001b[39m\n",
      "File \u001b[1;32m~\\anaconda3\\envs\\pytorch\\lib\\site-packages\\torch\\nn\\modules\\module.py:1501\u001b[0m, in \u001b[0;36mModule._call_impl\u001b[1;34m(self, *args, **kwargs)\u001b[0m\n\u001b[0;32m   1496\u001b[0m \u001b[38;5;66;03m# If we don't have any hooks, we want to skip the rest of the logic in\u001b[39;00m\n\u001b[0;32m   1497\u001b[0m \u001b[38;5;66;03m# this function, and just call forward.\u001b[39;00m\n\u001b[0;32m   1498\u001b[0m \u001b[38;5;28;01mif\u001b[39;00m \u001b[38;5;129;01mnot\u001b[39;00m (\u001b[38;5;28mself\u001b[39m\u001b[38;5;241m.\u001b[39m_backward_hooks \u001b[38;5;129;01mor\u001b[39;00m \u001b[38;5;28mself\u001b[39m\u001b[38;5;241m.\u001b[39m_backward_pre_hooks \u001b[38;5;129;01mor\u001b[39;00m \u001b[38;5;28mself\u001b[39m\u001b[38;5;241m.\u001b[39m_forward_hooks \u001b[38;5;129;01mor\u001b[39;00m \u001b[38;5;28mself\u001b[39m\u001b[38;5;241m.\u001b[39m_forward_pre_hooks\n\u001b[0;32m   1499\u001b[0m         \u001b[38;5;129;01mor\u001b[39;00m _global_backward_pre_hooks \u001b[38;5;129;01mor\u001b[39;00m _global_backward_hooks\n\u001b[0;32m   1500\u001b[0m         \u001b[38;5;129;01mor\u001b[39;00m _global_forward_hooks \u001b[38;5;129;01mor\u001b[39;00m _global_forward_pre_hooks):\n\u001b[1;32m-> 1501\u001b[0m     \u001b[38;5;28;01mreturn\u001b[39;00m forward_call(\u001b[38;5;241m*\u001b[39margs, \u001b[38;5;241m*\u001b[39m\u001b[38;5;241m*\u001b[39mkwargs)\n\u001b[0;32m   1502\u001b[0m \u001b[38;5;66;03m# Do not call functions when jit is used\u001b[39;00m\n\u001b[0;32m   1503\u001b[0m full_backward_hooks, non_full_backward_hooks \u001b[38;5;241m=\u001b[39m [], []\n",
      "Cell \u001b[1;32mIn[19], line 40\u001b[0m, in \u001b[0;36mRNNModel.forward\u001b[1;34m(self, X)\u001b[0m\n\u001b[0;32m     37\u001b[0m \u001b[38;5;28;01massert\u001b[39;00m torch\u001b[38;5;241m.\u001b[39mequal(out[\u001b[38;5;241m-\u001b[39m\u001b[38;5;241m1\u001b[39m, :, ], h\u001b[38;5;241m.\u001b[39msqueeze(\u001b[38;5;241m0\u001b[39m))\n\u001b[0;32m     39\u001b[0m \u001b[38;5;66;03m#最后通过全连接层计算结果Out，并以softmax()回归规范数据\u001b[39;00m\n\u001b[1;32m---> 40\u001b[0m \u001b[38;5;28;01mreturn\u001b[39;00m F\u001b[38;5;241m.\u001b[39msoftmax(\u001b[38;5;28;43mself\u001b[39;49m\u001b[38;5;241;43m.\u001b[39;49m\u001b[43mlinear\u001b[49m\u001b[43m(\u001b[49m\u001b[43mh\u001b[49m\u001b[38;5;241;43m.\u001b[39;49m\u001b[43msqueeze\u001b[49m\u001b[43m(\u001b[49m\u001b[43m)\u001b[49m\u001b[43m)\u001b[49m,dim\u001b[38;5;241m=\u001b[39m\u001b[38;5;241m0\u001b[39m)\n",
      "File \u001b[1;32m~\\anaconda3\\envs\\pytorch\\lib\\site-packages\\torch\\nn\\modules\\module.py:1501\u001b[0m, in \u001b[0;36mModule._call_impl\u001b[1;34m(self, *args, **kwargs)\u001b[0m\n\u001b[0;32m   1496\u001b[0m \u001b[38;5;66;03m# If we don't have any hooks, we want to skip the rest of the logic in\u001b[39;00m\n\u001b[0;32m   1497\u001b[0m \u001b[38;5;66;03m# this function, and just call forward.\u001b[39;00m\n\u001b[0;32m   1498\u001b[0m \u001b[38;5;28;01mif\u001b[39;00m \u001b[38;5;129;01mnot\u001b[39;00m (\u001b[38;5;28mself\u001b[39m\u001b[38;5;241m.\u001b[39m_backward_hooks \u001b[38;5;129;01mor\u001b[39;00m \u001b[38;5;28mself\u001b[39m\u001b[38;5;241m.\u001b[39m_backward_pre_hooks \u001b[38;5;129;01mor\u001b[39;00m \u001b[38;5;28mself\u001b[39m\u001b[38;5;241m.\u001b[39m_forward_hooks \u001b[38;5;129;01mor\u001b[39;00m \u001b[38;5;28mself\u001b[39m\u001b[38;5;241m.\u001b[39m_forward_pre_hooks\n\u001b[0;32m   1499\u001b[0m         \u001b[38;5;129;01mor\u001b[39;00m _global_backward_pre_hooks \u001b[38;5;129;01mor\u001b[39;00m _global_backward_hooks\n\u001b[0;32m   1500\u001b[0m         \u001b[38;5;129;01mor\u001b[39;00m _global_forward_hooks \u001b[38;5;129;01mor\u001b[39;00m _global_forward_pre_hooks):\n\u001b[1;32m-> 1501\u001b[0m     \u001b[38;5;28;01mreturn\u001b[39;00m forward_call(\u001b[38;5;241m*\u001b[39margs, \u001b[38;5;241m*\u001b[39m\u001b[38;5;241m*\u001b[39mkwargs)\n\u001b[0;32m   1502\u001b[0m \u001b[38;5;66;03m# Do not call functions when jit is used\u001b[39;00m\n\u001b[0;32m   1503\u001b[0m full_backward_hooks, non_full_backward_hooks \u001b[38;5;241m=\u001b[39m [], []\n",
      "File \u001b[1;32m~\\anaconda3\\envs\\pytorch\\lib\\site-packages\\torch\\nn\\modules\\linear.py:114\u001b[0m, in \u001b[0;36mLinear.forward\u001b[1;34m(self, input)\u001b[0m\n\u001b[0;32m    113\u001b[0m \u001b[38;5;28;01mdef\u001b[39;00m \u001b[38;5;21mforward\u001b[39m(\u001b[38;5;28mself\u001b[39m, \u001b[38;5;28minput\u001b[39m: Tensor) \u001b[38;5;241m-\u001b[39m\u001b[38;5;241m>\u001b[39m Tensor:\n\u001b[1;32m--> 114\u001b[0m     \u001b[38;5;28;01mreturn\u001b[39;00m \u001b[43mF\u001b[49m\u001b[38;5;241;43m.\u001b[39;49m\u001b[43mlinear\u001b[49m\u001b[43m(\u001b[49m\u001b[38;5;28;43minput\u001b[39;49m\u001b[43m,\u001b[49m\u001b[43m \u001b[49m\u001b[38;5;28;43mself\u001b[39;49m\u001b[38;5;241;43m.\u001b[39;49m\u001b[43mweight\u001b[49m\u001b[43m,\u001b[49m\u001b[43m \u001b[49m\u001b[38;5;28;43mself\u001b[39;49m\u001b[38;5;241;43m.\u001b[39;49m\u001b[43mbias\u001b[49m\u001b[43m)\u001b[49m\n",
      "\u001b[1;31mKeyboardInterrupt\u001b[0m: "
     ]
    }
   ],
   "source": [
    "\n",
    "train(net, train_iter, test_iter, loss, updater, 50, d2l.try_gpu())\n",
    "#train(net, train_iter, test_iter, loss, updater, 50, torch.device('cpu'))"
   ]
  },
  {
   "attachments": {
    "%E5%9B%BE%E7%89%874.png": {
     "image/png": "[encoded data removed]"
    }
   },
   "cell_type": "markdown",
   "id": "8f20888d",
   "metadata": {},
   "source": [
    "由下图的运行结果可见，随着损失的不断减少，训练集与预测集的准确准确度也在不断提高。![%E5%9B%BE%E7%89%874.png](attachment:%E5%9B%BE%E7%89%874.png)"
   ]
  },
  {
   "cell_type": "markdown",
   "id": "d1e9714c",
   "metadata": {},
   "source": [
    "### 情感预测分类"
   ]
  },
  {
   "cell_type": "code",
   "execution_count": 25,
   "id": "771b667d",
   "metadata": {},
   "outputs": [
    {
     "name": "stdout",
     "output_type": "stream",
     "text": [
      "comment_cut\n",
      "-预测类别: 3 \t-实际类别: 1\t\t-预测错误\n",
      "\n",
      "  这部 电影 二刷 第一次 3d imax 效果 就别 特效 真的 台词 欠缺 推荐\n",
      "-预测类别: 3 \t-实际类别: 3\t\t-预测正确\n",
      "\n"
     ]
    }
   ],
   "source": [
    "#加载已经保存的模型参数\n",
    "net.load_state_dict(torch.load('./RNN.parameters'))\n",
    "device = d2l.try_gpu()\n",
    "\n",
    "for X, y in test_iter[:20]:            #对测试集的前20个样本进行测试\n",
    "\n",
    "\n",
    "    X = X.to(device)\n",
    "    y = y.to(device)\n",
    "\n",
    "    #输出样本的评论语句信息\n",
    "    print(' '.join([id_token_voc[i] for i in X]))\n",
    "\n",
    "    X = X.unsqueeze(0)\n",
    "    y_hat = net(X)\n",
    "\n",
    "    print('-预测类别:', y_hat.argmax().item() + 1 ,'\\t-实际类别:', y.item(), end='\\t')\n",
    "\n",
    "    if y_hat.argmax().item() + 1 == y.item():\n",
    "        print('\\t-预测正确\\n')\n",
    "\n",
    "    else:\n",
    "        print('\\t-预测错误\\n')"
   ]
  },
  {
   "attachments": {},
   "cell_type": "markdown",
   "id": "66baaa0c",
   "metadata": {},
   "source": [
    "部分运行结果如下图:"
   ]
  },
  {
   "cell_type": "code",
   "execution_count": null,
   "id": "860fa87d",
   "metadata": {},
   "outputs": [],
   "source": []
  },
  {
   "cell_type": "code",
   "execution_count": 26,
   "id": "4d76ad38",
   "metadata": {},
   "outputs": [
    {
     "name": "stdout",
     "output_type": "stream",
     "text": [
      "              precision    recall  f1-score   support\n",
      "\n",
      "          差评       0.00      0.00      0.00      2271\n",
      "          中评       0.00      0.00      0.00      1629\n",
      "          好评       0.90      1.00      0.95     36095\n",
      "\n",
      "    accuracy                           0.90     39995\n",
      "   macro avg       0.30      0.33      0.32     39995\n",
      "weighted avg       0.81      0.90      0.86     39995\n",
      "\n"
     ]
    },
    {
     "name": "stderr",
     "output_type": "stream",
     "text": [
      "C:\\Users\\sxs\\anaconda3\\envs\\pytorch\\lib\\site-packages\\sklearn\\metrics\\_classification.py:1731: UndefinedMetricWarning: Precision is ill-defined and being set to 0.0 in labels with no predicted samples. Use `zero_division` parameter to control this behavior.\n",
      "  _warn_prf(average, modifier, f\"{metric.capitalize()} is\", result.shape[0])\n",
      "C:\\Users\\sxs\\anaconda3\\envs\\pytorch\\lib\\site-packages\\sklearn\\metrics\\_classification.py:1731: UndefinedMetricWarning: Precision is ill-defined and being set to 0.0 in labels with no predicted samples. Use `zero_division` parameter to control this behavior.\n",
      "  _warn_prf(average, modifier, f\"{metric.capitalize()} is\", result.shape[0])\n",
      "C:\\Users\\sxs\\anaconda3\\envs\\pytorch\\lib\\site-packages\\sklearn\\metrics\\_classification.py:1731: UndefinedMetricWarning: Precision is ill-defined and being set to 0.0 in labels with no predicted samples. Use `zero_division` parameter to control this behavior.\n",
      "  _warn_prf(average, modifier, f\"{metric.capitalize()} is\", result.shape[0])\n"
     ]
    }
   ],
   "source": [
    "from sklearn.metrics import classification_report\n",
    "import torch\n",
    "import d2l  # 确保d2l库已导入（原代码中使用了d2l.try_gpu()）\n",
    "\n",
    "# 加载模型\n",
    "net.load_state_dict(torch.load('./RNN.parameters'))\n",
    "# device = d2l.try_gpu()\n",
    "device = torch.device(\"cuda\" if torch.cuda.is_available() else \"cpu\")\n",
    "net = net.to(device)\n",
    "\n",
    "# 收集标签\n",
    "y_true = []\n",
    "y_pred = []\n",
    "for X, y in test_iter:\n",
    "    X = X.unsqueeze(0).to(device)\n",
    "    y_true.append(y.item())  # 真实标签（1,2,3）\n",
    "    with torch.no_grad():\n",
    "        y_hat = net(X)\n",
    "        pred = y_hat.argmax().item() + 1  # 预测标签（1,2,3）\n",
    "        y_pred.append(pred)\n",
    "\n",
    "# 生成分类报告\n",
    "target_names = ['差评', '中评', '好评']  # 对应标签1,2,3\n",
    "print(classification_report(y_true, y_pred, target_names=target_names))\n",
    "#print(classification_report(y_true, y_pred))"
   ]
  },
  {
   "cell_type": "code",
   "execution_count": null,
   "id": "b5cb296a",
   "metadata": {},
   "outputs": [],
   "source": []
  },
  {
   "cell_type": "code",
   "execution_count": null,
   "id": "519c831f",
   "metadata": {},
   "outputs": [],
   "source": []
  },
  {
   "cell_type": "code",
   "execution_count": null,
   "id": "e6683b47",
   "metadata": {},
   "outputs": [],
   "source": []
  },
  {
   "cell_type": "code",
   "execution_count": null,
   "id": "b7d1a8ef",
   "metadata": {},
   "outputs": [],
   "source": []
  },
  {
   "cell_type": "code",
   "execution_count": null,
   "id": "b470fb09",
   "metadata": {},
   "outputs": [],
   "source": []
  },
  {
   "cell_type": "code",
   "execution_count": null,
   "id": "ea220b5e",
   "metadata": {},
   "outputs": [],
   "source": []
  },
  {
   "cell_type": "code",
   "execution_count": null,
   "id": "d48d9d70",
   "metadata": {},
   "outputs": [],
   "source": []
  },
  {
   "cell_type": "code",
   "execution_count": null,
   "id": "badb5c45",
   "metadata": {},
   "outputs": [],
   "source": []
  },
  {
   "cell_type": "code",
   "execution_count": null,
   "id": "382a94fa",
   "metadata": {},
   "outputs": [],
   "source": []
  },
  {
   "cell_type": "code",
   "execution_count": null,
   "id": "7f232fab",
   "metadata": {},
   "outputs": [],
   "source": []
  },
  {
   "cell_type": "code",
   "execution_count": null,
   "id": "64be7a45",
   "metadata": {},
   "outputs": [],
   "source": []
  },
  {
   "cell_type": "code",
   "execution_count": null,
   "id": "b377cd76",
   "metadata": {},
   "outputs": [],
   "source": []
  },
  {
   "cell_type": "code",
   "execution_count": null,
   "id": "95ec95dc",
   "metadata": {},
   "outputs": [],
   "source": []
  },
  {
   "cell_type": "code",
   "execution_count": null,
   "id": "71fe4d45",
   "metadata": {},
   "outputs": [],
   "source": []
  },
  {
   "cell_type": "code",
   "execution_count": null,
   "id": "5d61a1cc",
   "metadata": {},
   "outputs": [],
   "source": []
  },
  {
   "cell_type": "code",
   "execution_count": null,
   "id": "5a3fc0f9",
   "metadata": {},
   "outputs": [],
   "source": []
  },
  {
   "cell_type": "code",
   "execution_count": null,
   "id": "71eedfdc",
   "metadata": {},
   "outputs": [],
   "source": []
  },
  {
   "cell_type": "code",
   "execution_count": null,
   "id": "379c0653",
   "metadata": {},
   "outputs": [],
   "source": []
  },
  {
   "cell_type": "code",
   "execution_count": null,
   "id": "3383d5a8",
   "metadata": {},
   "outputs": [],
   "source": []
  },
  {
   "cell_type": "code",
   "execution_count": null,
   "id": "39b45697",
   "metadata": {},
   "outputs": [],
   "source": []
  },
  {
   "cell_type": "code",
   "execution_count": null,
   "id": "5da0cb09",
   "metadata": {},
   "outputs": [],
   "source": []
  },
  {
   "cell_type": "code",
   "execution_count": null,
   "id": "706fda5a",
   "metadata": {},
   "outputs": [],
   "source": []
  },
  {
   "cell_type": "code",
   "execution_count": null,
   "id": "2bf14eed",
   "metadata": {},
   "outputs": [],
   "source": []
  },
  {
   "cell_type": "code",
   "execution_count": null,
   "id": "838a5fc7",
   "metadata": {},
   "outputs": [],
   "source": []
  },
  {
   "cell_type": "code",
   "execution_count": null,
   "id": "05174a71",
   "metadata": {},
   "outputs": [],
   "source": []
  },
  {
   "cell_type": "code",
   "execution_count": null,
   "id": "f468c572",
   "metadata": {},
   "outputs": [],
   "source": []
  },
  {
   "cell_type": "code",
   "execution_count": null,
   "id": "f638eb78",
   "metadata": {},
   "outputs": [],
   "source": []
  },
  {
   "cell_type": "code",
   "execution_count": null,
   "id": "1ef1def0",
   "metadata": {},
   "outputs": [],
   "source": []
  }
 ],
 "metadata": {
  "kernelspec": {
   "display_name": "pytorch",
   "language": "python",
   "name": "pytorch"
  },
  "language_info": {
   "codemirror_mode": {
    "name": "ipython",
    "version": 3
   },
   "file_extension": ".py",
   "mimetype": "text/x-python",
   "name": "python",
   "nbconvert_exporter": "python",
   "pygments_lexer": "ipython3",
   "version": "3.10.9"
  }
 },
 "nbformat": 4,
 "nbformat_minor": 5
}
